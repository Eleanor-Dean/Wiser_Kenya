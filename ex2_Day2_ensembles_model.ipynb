{
 "cells": [
  {
   "attachments": {},
   "cell_type": "markdown",
   "id": "55facfb2-942b-46af-ad6a-9ed22d393062",
   "metadata": {
    "editable": true,
    "slideshow": {
     "slide_type": ""
    },
    "tags": []
   },
   "source": [
    "# DAY 2: Models - Exercise 2.\n",
    "In this excersice we will be: <br>\n",
    "1. Using measures from Exercise 1 to charecterise the ECMWF model climatology.\n",
    "2. Calculate the mean and terciles of the model climatology for OND, Kenya\n",
    "3. Calculate the model bias relative to CHRIPS observations\n",
    "4. Calculate the ensemble mean prediction for each year\n",
    "5. Calculate the correlation of the ensemble mean predictions with CHIRPS observations.<br>\n",
    "\n",
    "The data for this excersise is below - it's a little more complicated than last time! <br>\n",
    "However, it is the same principle. For each year, and each ensemble member <br>\n",
    "a forecasted amount of rainfall is given for the months OND. "
   ]
  },
  {
   "cell_type": "markdown",
   "id": "865dd908-81e6-4967-a131-3d440c4f47a6",
   "metadata": {},
   "source": [
    "Below inside the '' after the location(, enter the location you're in with _Hindcast and _Obs_Chirps after it. <br>\n",
    "It should be in the same format as the Kenya version which is already written. <br>\n",
    "If stuck, Kenya can be used just fine. "
   ]
  },
  {
   "cell_type": "code",
   "execution_count": 4,
   "id": "2630dcb0-861f-4f5b-a5d1-f8153524e0f7",
   "metadata": {
    "scrolled": true,
    "slideshow": {
     "slide_type": ""
    },
    "tags": [
     "hide-input"
    ]
   },
   "outputs": [
    {
     "name": "stdout",
     "output_type": "stream",
     "text": [
      "Rainfall for 1996, Member 14: 3.26\n",
      "Rainfall for 1996, Observed 5.85\n"
     ]
    }
   ],
   "source": [
    "import numpy as np\n",
    "import xarray as xr\n",
    "from Data import location\n",
    "da = location('Kenya_Hindcast')\n",
    "obs = location('Kenya_Obs_Chirps')\n",
    "# Example: access rainfall for year=1994, member='Member 2'\n",
    "\n",
    "print(\"Rainfall for 1996, Member 14:\", da.sel(year=1996, member=\"Member 14\").item())\n",
    "print(\"Rainfall for 1996, Observed\", obs[4])"
   ]
  },
  {
   "cell_type": "markdown",
   "id": "0e9b452c-bfaa-4e49-8c26-7dc09745d455",
   "metadata": {
    "slideshow": {
     "slide_type": ""
    },
    "tags": []
   },
   "source": [
    "## Climate Mean \n",
    "Like before we will start with figuring out the climate mean. <br>\n",
    "The data is from the source ECMWF. <br>\n",
    "So the climate mean is representative of the forecasted rainfall per day in OND over Kenya."
   ]
  },
  {
   "cell_type": "code",
   "execution_count": 2,
   "id": "83f680e8-51a9-447c-8a52-3ae2441bcc72",
   "metadata": {
    "editable": true,
    "slideshow": {
     "slide_type": ""
    },
    "tags": []
   },
   "outputs": [
    {
     "name": "stdout",
     "output_type": "stream",
     "text": [
      "Climate_Mean =  2.7347777777777775 mm/day\n"
     ]
    }
   ],
   "source": [
    "#Like before we calculate the mean. \n",
    "#It is slightly diffrent to last time. \n",
    "ECMWF_Climate_Mean =  da.mean().item() # instead of np we use da to represent the dataset\n",
    "#.item forces it to display just the overall awnswer\n",
    "print(\"Climate_Mean = \",ECMWF_Climate_Mean, \"mm/day\")"
   ]
  },
  {
   "cell_type": "markdown",
   "id": "a848a76c-7175-4e73-acea-a069ee54df2c",
   "metadata": {
    "slideshow": {
     "slide_type": ""
    },
    "tags": []
   },
   "source": [
    "## Observed rainfall\n",
    "Now we must bring in the oberserved rainfall for OND <br>\n",
    "This array reprsents the seen average rainfall for the region per day selected in the same years as the hindcast.\n"
   ]
  },
  {
   "cell_type": "code",
   "execution_count": 7,
   "id": "19a0c516-8cc6-4634-b3ed-5738c22f44f0",
   "metadata": {},
   "outputs": [
    {
     "name": "stdout",
     "output_type": "stream",
     "text": [
      "[1.68, 3.1, 2.04, 1.54, 5.85, 1.23, 2.17, 2.09, 2.04, 2.91, 1.92, 2.3, 1.1, 4.4, 1.75, 1.8, 2.57, 1.48, 3.68, 2.64, 2.07, 2.15, 3.09, 1.72]\n"
     ]
    }
   ],
   "source": [
    "Obs_Rain = obs\n",
    "print(Obs_Rain)"
   ]
  },
  {
   "cell_type": "markdown",
   "id": "e4dad848-71fd-483b-a1ac-9685ed7ddc75",
   "metadata": {
    "editable": false,
    "slideshow": {
     "slide_type": ""
    },
    "tags": []
   },
   "source": [
    "Now we need the mean for the Observed rainfall <br>\n",
    "replace the inside of the bracket with the correct variable. <br>\n",
    "Hint - See Ex 1 for np.mean if stuck"
   ]
  },
  {
   "cell_type": "markdown",
   "id": "bc37888f-55c4-4235-ba7c-e180eb1e4add",
   "metadata": {},
   "source": [
    "<details>\n",
    "  <summary>Click for solution!</summary>\n",
    "  \n",
    "Obs_mean= np.mean(Obs_Rain)\n",
    "</details>"
   ]
  },
  {
   "cell_type": "code",
   "execution_count": 8,
   "id": "77a9b6bc-47e1-4cfb-99f1-019f264eefcd",
   "metadata": {
    "editable": true,
    "slideshow": {
     "slide_type": ""
    },
    "tags": []
   },
   "outputs": [
    {
     "name": "stdout",
     "output_type": "stream",
     "text": [
      "The Observed Climate Mean = 2.388333333333333 mm/day\n"
     ]
    }
   ],
   "source": [
    "Obs_Mean = np.mean(Obs_Rain)\n",
    "#Obs_Mean = np.mean()\n",
    "print(\"The Observed Climate Mean =\", Obs_Mean, \"mm/day\")"
   ]
  },
  {
   "cell_type": "markdown",
   "id": "2e494355-28f9-4272-92d2-73ccfedb5c7e",
   "metadata": {
    "editable": true,
    "slideshow": {
     "slide_type": ""
    },
    "tags": []
   },
   "source": [
    "## Bias Correction\n",
    "The next step is to calculate the bias <br>\n",
    "To do this we need to subtract the Observed Climate mean from the ECMWF Climate Mean. <br>\n",
    "This is to say the forecast system is biased by a certain amount on average to the observed data.<br>\n",
    "For example it might be always forecasting warmer than it actually is. <br>\n",
    "This is the bias of the forecast.<br>\n",
    "**Fill in the correct brackets with these options: ECMWF_Climate_Mean, Obs_Mean.**\n"
   ]
  },
  {
   "cell_type": "markdown",
   "id": "4dd42b09-166d-4c0e-b8f5-3a8855ee7f7a",
   "metadata": {},
   "source": [
    "<details>\n",
    "  <summary>Click for solution!</summary>\n",
    "  \n",
    "Bias = (ECMWF_Climate_Mean) - (Obs_Mean)\n",
    "</details>"
   ]
  },
  {
   "cell_type": "code",
   "execution_count": 6,
   "id": "bad2468d-e75a-43ec-940a-e7855324fe4c",
   "metadata": {
    "editable": true,
    "slideshow": {
     "slide_type": ""
    },
    "tags": []
   },
   "outputs": [
    {
     "name": "stdout",
     "output_type": "stream",
     "text": [
      "This is the Bias: 0.03872222222222299\n"
     ]
    }
   ],
   "source": [
    "Bias = (ECMWF_Climate_Mean) - (Obs_Mean)\n",
    "#Bias = () - ()\n",
    "\n",
    "print(\"This is the Bias:\", Bias)"
   ]
  },
  {
   "cell_type": "markdown",
   "id": "1f607fc8-6df3-45a4-b068-4ee4c98d183b",
   "metadata": {
    "editable": true,
    "slideshow": {
     "slide_type": ""
    },
    "tags": []
   },
   "source": [
    "## Terciles\n",
    "Next we calculate the terciles!<br>\n",
    "We did this in Ex 1. <br>\n",
    "**Fill in the appropriate spot inside the brackets with : da** <br>\n",
    "**Hint: This is the same spot RFA was in Ex 1**\n"
   ]
  },
  {
   "cell_type": "markdown",
   "id": "ed6777de-2025-4a25-99d4-4d3ebdab2e43",
   "metadata": {},
   "source": [
    "<details>\n",
    "  <summary>Click for solution!</summary>\n",
    "RF_upper = np.percentile(da, 66.66666)<br>\n",
    "RF_lower = np.percentile(da, 33.33333)\n",
    "</details>"
   ]
  },
  {
   "cell_type": "code",
   "execution_count": 12,
   "id": "cd416d67-cfa2-4088-91e3-9dfd40138a16",
   "metadata": {
    "editable": true,
    "slideshow": {
     "slide_type": ""
    },
    "tags": []
   },
   "outputs": [
    {
     "name": "stdout",
     "output_type": "stream",
     "text": [
      "The upper tercile determiner is: 2.94\n",
      "This lower tercile determiner is: 2.2066665469999998\n"
     ]
    }
   ],
   "source": [
    "RF_upper = np.percentile(da, 66.66666)\n",
    "RF_lower = np.percentile(da, 33.33333)\n",
    "#RF_upper = np.percentile( , 66.66666)\n",
    "#RF_lower = np.percentile( , 33.33333)\n",
    "\n",
    "print(\"The upper tercile determiner is:\", RF_upper)\n",
    "print(\"This lower tercile determiner is:\", RF_lower)"
   ]
  },
  {
   "cell_type": "markdown",
   "id": "75513b51-0ad1-4f1d-8e6c-365d6ecb3f15",
   "metadata": {
    "editable": true,
    "slideshow": {
     "slide_type": ""
    },
    "tags": []
   },
   "source": [
    "## Mean per year\n",
    "Now we need to create a dataset that has the forecast mean for each year. <br>\n",
    "For each year there is 15 predictions of the daily average rainfall for OND from ECMWF. <br>\n",
    "So for each year we need to add up the 15 predictions and divide by 15. <br>\n",
    "To do this we will rely on some python shortcuts."
   ]
  },
  {
   "cell_type": "code",
   "execution_count": 8,
   "id": "98073380-abef-40e0-aa40-f96f5866e4a7",
   "metadata": {
    "editable": true,
    "slideshow": {
     "slide_type": ""
    },
    "tags": []
   },
   "outputs": [
    {
     "name": "stdout",
     "output_type": "stream",
     "text": [
      "Yearly_Forecast_mean for 1993-2016: [1.51 2.88 1.37 1.08 4.02 1.16 1.18 1.18 1.23 1.94 1.41 1.69 1.25 2.34\n",
      " 1.38 0.94 1.83 1.23 1.87 1.65 1.11 1.73 2.6  1.28]\n"
     ]
    }
   ],
   "source": [
    "#First we create an empty array to store the data in\n",
    "Yearly_Forecast_mean = []\n",
    "\n",
    "#Then we need to select for each year all the values accosiated with it\n",
    "for year in da.year.values:\n",
    "    data = da.sel(year=year)\n",
    "    #now we can use the function mean to return the yearly mean across the members \n",
    "    mean = data.mean().item()\n",
    "    #Now we can store them into the list\n",
    "    Yearly_Forecast_mean.append(mean)\n",
    "    #print(f\"{year}: {round(mean, 2)}\")\n",
    "\n",
    "#Finally we round the values in the list for easy readability \n",
    "Yearly_Forecast_mean = np.round(Yearly_Forecast_mean,2)\n",
    "print(\"Yearly_Forecast_mean for 1993-2016:\",Yearly_Forecast_mean)\n",
    "\n",
    "    "
   ]
  },
  {
   "cell_type": "markdown",
   "id": "83a4a2d4-337b-486e-a855-9e6386ca65ac",
   "metadata": {
    "editable": true,
    "slideshow": {
     "slide_type": ""
    },
    "tags": []
   },
   "source": [
    "## Standard Deviation\n",
    "Like in Ex1, we now need to caculate the standard deviation of the yearly forecast means' <br>\n",
    "**Fill in the appropriate variable in the bracket and std after the \"np.std(\" but before the ,**"
   ]
  },
  {
   "cell_type": "markdown",
   "id": "1ee21421-ef79-4544-b7b4-e09b7780d959",
   "metadata": {},
   "source": [
    "<details>\n",
    "  <summary>Click for solution!</summary>\n",
    "Standard_deviation = np.std(Yearly_Forecast_mean, ddof=1)\n",
    "</details>"
   ]
  },
  {
   "cell_type": "code",
   "execution_count": 9,
   "id": "819d6765-6f71-4dc1-b2e0-0bbd97a047a0",
   "metadata": {
    "editable": true,
    "slideshow": {
     "slide_type": ""
    },
    "tags": []
   },
   "outputs": [
    {
     "name": "stdout",
     "output_type": "stream",
     "text": [
      "This is the standard deviation: 0.7027642109782511\n"
     ]
    }
   ],
   "source": [
    "Standard_deviation = np.std(Yearly_Forecast_mean, ddof=1)\n",
    "#Standard_deviation = np.( , ddof=1)\n",
    "\n",
    "print(\"This is the standard deviation:\", Standard_deviation)"
   ]
  },
  {
   "cell_type": "markdown",
   "id": "50336905-33e8-46b6-9dab-f097ae35acfb",
   "metadata": {
    "editable": true,
    "slideshow": {
     "slide_type": ""
    },
    "tags": []
   },
   "source": [
    "## Correlation Coeffecient \n",
    "Next up is to find the value for the Correlation Coeffecient.<br>\n",
    "This is a measure of how close a set of values is to another set. <br>\n",
    "We need to see how close the observed rainfall each year is to the forecasted mean of that year. <br>\n",
    "This tells us if the forecast is generally predicting close to the correct rainfall. <br>\n",
    "In practice we need to compare the Yearly_Forecast_mean dataset and the Obs_Rain dataset.<br>\n",
    "The closer the Correlation_Coeffecient is to 1 - the better the forecasts' skill.<br>\n",
    "<br>\n",
    "**Put the correct variables inside the bracket, seperated by the comma.**<br>\n",
    "Options include: Yearly_Forecast_mean, Standard_deviation, Bias and Obs_Rain"
   ]
  },
  {
   "cell_type": "markdown",
   "id": "4b0bd259-216a-493c-bc15-0049c6e6d37f",
   "metadata": {},
   "source": [
    "<details>\n",
    "  <summary>Click for solution!</summary>\n",
    "Correlation_Coeffecient = np.corrcoef(Yearly_Forecast_mean,Obs_Rain)[0,1]\n",
    "</details>"
   ]
  },
  {
   "cell_type": "code",
   "execution_count": 10,
   "id": "0108b7b8-05e8-4d7f-bb52-0de566686322",
   "metadata": {
    "editable": true,
    "slideshow": {
     "slide_type": ""
    },
    "tags": []
   },
   "outputs": [
    {
     "name": "stdout",
     "output_type": "stream",
     "text": [
      "The Correlation_Coeffecient is: 0.883906597328332\n"
     ]
    }
   ],
   "source": [
    "Correlation_Coeffecient = np.corrcoef(Yearly_Forecast_mean,Obs_Rain)[0,1]\n",
    "#Correlation_Coeffecient = np.corrcoef( , )[0,1]\n",
    "print(\"The Correlation_Coeffecient is:\", Correlation_Coeffecient)"
   ]
  },
  {
   "cell_type": "markdown",
   "id": "8852ed6c-cd57-4bf9-8a98-5891a8b20840",
   "metadata": {
    "editable": true,
    "slideshow": {
     "slide_type": ""
    },
    "tags": []
   },
   "source": [
    "## Plotting\n",
    "We can now assemble a plot. <br>\n",
    "We want to compare the Yearly Forecast Mean - as this was the given forecast for rainfall per day in OND - Kenya. <br>\n",
    "With the yearly Observed Rainfall per day in OND - Kenya. <br>\n",
    "This is the Yearly_Forecast_mean dataset and the Obs_Rain dataset. <br>\n",
    "The plot will show the years on the x-axis against the average mm of rainfall per day in OND on the y-axis. <br>\n",
    "<br>\n",
    "If the forecast was 100% correct then the two plotted lines would match up perfectly. <br>\n",
    "The further appart the lines - the more the forecast was out. \n"
   ]
  },
  {
   "cell_type": "code",
   "execution_count": 11,
   "id": "03a02df3-c0ff-4976-9932-bb83c48af238",
   "metadata": {
    "slideshow": {
     "slide_type": ""
    },
    "tags": []
   },
   "outputs": [
    {
     "data": {
      "image/png": "[encoded data removed]",
      "text/plain": [
       "<Figure size 1000x500 with 1 Axes>"
      ]
     },
     "metadata": {},
     "output_type": "display_data"
    }
   ],
   "source": [
    "import matplotlib.pyplot as plt\n",
    "\n",
    "\n",
    "years = list(range(1993, 2017))\n",
    "mean_forecast_rainfall = Yearly_Forecast_mean\n",
    "mean_observed_rainfall = Obs_Rain\n",
    "\n",
    "plt.figure(figsize=(10, 5))\n",
    "\n",
    "# Plot forecast rainfall\n",
    "plt.plot(\n",
    "    years,\n",
    "    mean_forecast_rainfall,\n",
    "    linestyle='-',\n",
    "    marker='d',\n",
    "    color='black',\n",
    "    label='Ensemble Mean'\n",
    ")\n",
    "\n",
    "# Plot observed rainfall\n",
    "plt.plot(\n",
    "    years,\n",
    "    mean_observed_rainfall,\n",
    "    linestyle='-',\n",
    "    marker='s',\n",
    "    color='red',\n",
    "    label='Obs'\n",
    ")\n",
    "\n",
    "# Labels and title\n",
    "plt.xlabel('Year')\n",
    "plt.ylabel('mm/day')\n",
    "plt.title(\n",
    "    'Forecast (ensemble mean) and observed rainfall:\\n'\n",
    "    'ECMWF_OND_St:Aug / CHIRPS_Obs_OND '\n",
    ") #/ Reg. Kenya: \\n''6N-5S;33-42E Bias=0.33/Corr=0.85'\n",
    "\n",
    "# Legend and grid\n",
    "plt.legend()\n",
    "plt.grid(True)\n",
    "plt.tight_layout()\n",
    "plt.show()\n"
   ]
  },
  {
   "cell_type": "markdown",
   "id": "34abedaf-0da1-412e-bdf2-1a1971fc2b87",
   "metadata": {
    "editable": false,
    "slideshow": {
     "slide_type": ""
    },
    "tags": []
   },
   "source": [
    "# You have now finished EX 2; Please refer to the powerpoint on what to do next. \n",
    "## Copy the image of the plot into the powerpoint "
   ]
  },
  {
   "cell_type": "code",
   "execution_count": null,
   "id": "4dc81fb5-4b89-465a-a9ae-b6d2db7985bb",
   "metadata": {
    "editable": true,
    "slideshow": {
     "slide_type": ""
    },
    "tags": []
   },
   "outputs": [],
   "source": []
  },
  {
   "cell_type": "code",
   "execution_count": null,
   "id": "fde4ab37-1bc4-4253-abd6-8074a12ff7cd",
   "metadata": {
    "editable": true,
    "slideshow": {
     "slide_type": ""
    },
    "tags": []
   },
   "outputs": [],
   "source": []
  }
 ],
 "metadata": {
  "kernelspec": {
   "display_name": "Python 3 (ipykernel)",
   "language": "python",
   "name": "python3"
  },
  "language_info": {
   "codemirror_mode": {
    "name": "ipython",
    "version": 3
   },
   "file_extension": ".py",
   "mimetype": "text/x-python",
   "name": "python",
   "nbconvert_exporter": "python",
   "pygments_lexer": "ipython3",
   "version": "3.12.10"
  }
 },
 "nbformat": 4,
 "nbformat_minor": 5
}
